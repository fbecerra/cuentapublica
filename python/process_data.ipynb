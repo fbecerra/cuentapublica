{
 "cells": [
  {
   "cell_type": "markdown",
   "metadata": {},
   "source": [
    "# Extracción de datos de los discursos"
   ]
  },
  {
   "cell_type": "markdown",
   "metadata": {},
   "source": [
    "Primero, usaremos nltk para extraer todas las palabras mencionadas en todos los discursos"
   ]
  },
  {
   "cell_type": "code",
   "execution_count": null,
   "metadata": {},
   "outputs": [],
   "source": [
    "import os\n",
    "import json\n",
    "\n",
    "import nltk\n",
    "from nltk.corpus import stopwords\n",
    "from nltk.tokenize import RegexpTokenizer\n",
    "\n",
    "from sklearn.feature_extraction import DictVectorizer\n",
    "\n",
    "import numpy as np"
   ]
  },
  {
   "cell_type": "code",
   "execution_count": null,
   "metadata": {},
   "outputs": [],
   "source": [
    "STOPWORDS = stopwords.words('spanish')\n",
    "spanish_sentence_tokenizer = nltk.data.load('tokenizers/punkt/spanish.pickle')\n",
    "tokenizer = RegexpTokenizer(r'\\w+')\n",
    "dict_vectorizer = DictVectorizer()"
   ]
  },
  {
   "cell_type": "markdown",
   "metadata": {},
   "source": [
    "Iteramos sobre los archivos .txt generados con parse_pdf.ipynb, identificamos cada párrafo, y usamos `spanish_sentence_tokenizes` para separar por oraciones. Con eso, después usamos `tokenizer` para filtrar por palabras"
   ]
  },
  {
   "cell_type": "code",
   "execution_count": null,
   "metadata": {},
   "outputs": [],
   "source": [
    "folder_path = '/opt/projects/mensaje_presidencial/textos/txt'\n",
    "files = sorted(os.listdir(folder_path))\n",
    "\n",
    "messages = []\n",
    "all_counts = []\n",
    "\n",
    "for file in files:\n",
    "    if not file.startswith('.'):\n",
    "        message = {}\n",
    "        [year, president] = file.split('.')[0].split('_')\n",
    "        message['year'] = year\n",
    "        message['president'] = president\n",
    "        txt_path = os.path.join(folder_path, file)\n",
    "        with open(txt_path, 'r') as fopen:\n",
    "            text = fopen.read()\n",
    "            paragraphs = text.split(\"\\n\\n\")\n",
    "            \n",
    "            all_sentences = []\n",
    "            counts = {}\n",
    "\n",
    "            for paragraph in paragraphs:\n",
    "                sentences = spanish_sentence_tokenizer.tokenize(paragraph)\n",
    "                all_sentences.extend(sentences)\n",
    "                for sentence in sentences:\n",
    "                    words = tokenizer.tokenize(sentence)\n",
    "                    for word in words:\n",
    "                        word = word.lower()\n",
    "                        if not word in STOPWORDS and not word.isnumeric():\n",
    "                            if word in counts:\n",
    "                                counts[word] +=1\n",
    "                            else:\n",
    "                                counts[word] = 1  \n",
    "            all_counts.append(counts)\n",
    "            message['sentences'] = all_sentences\n",
    "        messages.append(message)"
   ]
  },
  {
   "cell_type": "markdown",
   "metadata": {},
   "source": [
    "Usamos `dict_vectorizer` para calcular cuantas veces una palabrar es mencionada en cada documento. Después filtramos sólo aquéllas que aparezcan más de 10 veces en total. Esto es arbitrario, pero nos ayuda a deshacernos de palabras que no son importantes para el análisis"
   ]
  },
  {
   "cell_type": "code",
   "execution_count": null,
   "metadata": {},
   "outputs": [],
   "source": [
    "count_matrix = dict_vectorizer.fit_transform(all_counts)\n",
    "feature_names = dict_vectorizer.get_feature_names()\n",
    "\n",
    "all_cnts = count_matrix.sum(axis=0).getA()[0]\n",
    "greater_than = all_cnts > 10\n",
    "filtered_cnts = count_matrix[:, greater_than]\n",
    "filtered_features = np.array(feature_names)[greater_than]\n",
    "filtered_cnts.shape"
   ]
  },
  {
   "cell_type": "markdown",
   "metadata": {},
   "source": [
    "Ahora generamos un diccionario del tipo `{'palabra': [cnt1, cnt2, cnt3, ...]}` para que sea más fácil ocuparlo cuando hagamos la visualización"
   ]
  },
  {
   "cell_type": "code",
   "execution_count": null,
   "metadata": {},
   "outputs": [],
   "source": [
    "words_obj = {}\n",
    "for idx_feature, feature in enumerate(filtered_features):\n",
    "    words_obj[feature] = list(filtered_cnts[:, idx_feature].toarray().flatten())"
   ]
  },
  {
   "cell_type": "markdown",
   "metadata": {},
   "source": [
    "Definimos los períodos presidenciales"
   ]
  },
  {
   "cell_type": "code",
   "execution_count": null,
   "metadata": {},
   "outputs": [],
   "source": [
    "presidents = [{'name': 'Patricio', 'surname': 'Aylwin', 'year_start': 1990, 'year_end': 1993, 'img': './img/Aylwin.jpg'},\n",
    "              {'name': 'Eduardo', 'surname': 'Frei', 'year_start': 1994, 'year_end': 1999, 'img': './img/Frei.jpeg'},\n",
    "              {'name': 'Ricardo', 'surname': 'Lagos', 'year_start': 2000, 'year_end': 2005, 'img': './img/Lagos.jpeg'},\n",
    "              {'name': 'Michelle', 'surname': 'Bachelet', 'year_start': 2006, 'year_end': 2009, 'img': './img/Bachelet1.jpg'},\n",
    "              {'name': 'Sebastián', 'surname': 'Piñera', 'year_start': 2010, 'year_end': 2013, 'img': './img/Pinera1.jpg'},\n",
    "              {'name': 'Michelle', 'surname': 'Bachelet', 'year_start': 2014, 'year_end': 2017, 'img': './img/Bachelet2.jpg'},\n",
    "              {'name': 'Sebastián', 'surname': 'Piñera', 'year_start': 2018, 'year_end': 2018, 'img': './img/Pinera2.jpg'}]"
   ]
  },
  {
   "cell_type": "markdown",
   "metadata": {},
   "source": [
    "Juntamos toda esta información en una sola variable y la guardamos en la carpeta `data` que será ocupada luego"
   ]
  },
  {
   "cell_type": "code",
   "execution_count": null,
   "metadata": {},
   "outputs": [],
   "source": [
    "obj = {}\n",
    "obj['years'] = list(range(1990, 2019))\n",
    "obj['presidents'] = presidents\n",
    "obj['terms'] = words_obj\n",
    "\n",
    "folder_path = '/opt/projects/mensaje_presidencial/data'\n",
    "file_path = os.path.join(folder_path, 'data.json')\n",
    "with open(file_path, 'w', encoding='utf-8') as f:\n",
    "    dumped = json.dumps(obj)\n",
    "    f.write(str(dumped))\n",
    "    f.close()"
   ]
  }
 ],
 "metadata": {
  "kernelspec": {
   "display_name": "Python 3",
   "language": "python",
   "name": "python3"
  },
  "language_info": {
   "codemirror_mode": {
    "name": "ipython",
    "version": 3
   },
   "file_extension": ".py",
   "mimetype": "text/x-python",
   "name": "python",
   "nbconvert_exporter": "python",
   "pygments_lexer": "ipython3",
   "version": "3.6.5"
  }
 },
 "nbformat": 4,
 "nbformat_minor": 2
}
