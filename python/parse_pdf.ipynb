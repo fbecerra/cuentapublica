{
 "cells": [
  {
   "cell_type": "markdown",
   "metadata": {},
   "source": [
    "# Extracción de los discursos desde documentos PDF"
   ]
  },
  {
   "cell_type": "markdown",
   "metadata": {},
   "source": [
    "Antes que todo, este programa requiere instalar [tika-python](https://github.com/chrismattmann/tika-python)"
   ]
  },
  {
   "cell_type": "code",
   "execution_count": null,
   "metadata": {},
   "outputs": [],
   "source": [
    "import os\n",
    "import re\n",
    "\n",
    "import tika\n",
    "from tika import parser"
   ]
  },
  {
   "cell_type": "markdown",
   "metadata": {},
   "source": [
    "Empezamos definiendo las variables a utilizar"
   ]
  },
  {
   "cell_type": "code",
   "execution_count": null,
   "metadata": {},
   "outputs": [],
   "source": [
    "folder_path = '/path/to/pdf/files'\n",
    "pdf_name = '2012_SebastianPinera.pdf'\n",
    "pdf_path = os.path.join(folder_path, pdf_name)"
   ]
  },
  {
   "cell_type": "markdown",
   "metadata": {},
   "source": [
    "Ahora extraemos el texto desde el pdf usando tika"
   ]
  },
  {
   "cell_type": "code",
   "execution_count": null,
   "metadata": {},
   "outputs": [],
   "source": [
    "parsed = parser.from_file(pdf_path)\n",
    "raw_text = parsed['content']"
   ]
  },
  {
   "cell_type": "markdown",
   "metadata": {},
   "source": [
    "El siguiente paso es limpiar el texto, ya que viene con headers, footers, y otras cosas que no pertenecen al discurso en sí. Además debemos hacer algunos arreglos manuales para que la estructura del discurso (párrafos, oraciones) se mantenga como en el PDF.\n",
    "\n",
    "Esta rutina para limpiar el texto varía dependiendo del discurso analizado, así debe ser adaptada caso a caso."
   ]
  },
  {
   "cell_type": "code",
   "execution_count": null,
   "metadata": {},
   "outputs": [],
   "source": [
    "text = raw_text.strip('\\n')\n",
    "text = re.sub(r'[0-9]+Mensaje Presidencial_2012.indd\\s+[0-9]+\\s+20-05-12   21:0420-05-12   21:04', '', text)\n",
    "text = re.sub(r'21\\n D\\n\\nE \\nM\\n\\nAY\\nO \\n\\nDE\\n 2\\n\\n01\\n2', '', text)\n",
    "text = re.sub(r'Mensaje Presidencial_2012.indd', '', text)\n",
    "text = re.sub('\\n+[0-9]+\\n+', '\\n', text)\n",
    "text = re.sub('M\\nEN\\n\\nSA\\nJE\\n\\n P\\nRE\\n\\nSI\\nDE\\n\\nNC\\nIA\\n\\nL', '', text)\n",
    "text = re.sub(r'\\n(?!\\n)', '', text)\n",
    "text = re.sub(r'\\n\\n+', '', text)\n",
    "text = re.sub(r'\\n', '\\n\\n', text)"
   ]
  },
  {
   "cell_type": "markdown",
   "metadata": {},
   "source": [
    "Finalmente podemos guardar el texto extraído en un nuevo archivo .txt"
   ]
  },
  {
   "cell_type": "code",
   "execution_count": null,
   "metadata": {},
   "outputs": [],
   "source": [
    "txt_name = '2012_SebastianPinera.txt'\n",
    "txt_path = os.path.join(folder_path, txt_name)\n",
    "\n",
    "with open(txt_path, 'w') as fwrite:\n",
    "    fwrite.write(text)"
   ]
  },
  {
   "cell_type": "markdown",
   "metadata": {},
   "source": [
    "Un paso extra: verificar manualmente que el texto quedó bien y arreglarlo si es necesario."
   ]
  }
 ],
 "metadata": {
  "kernelspec": {
   "display_name": "Python 3",
   "language": "python",
   "name": "python3"
  },
  "language_info": {
   "codemirror_mode": {
    "name": "ipython",
    "version": 3
   },
   "file_extension": ".py",
   "mimetype": "text/x-python",
   "name": "python",
   "nbconvert_exporter": "python",
   "pygments_lexer": "ipython3",
   "version": "3.6.5"
  }
 },
 "nbformat": 4,
 "nbformat_minor": 2
}
